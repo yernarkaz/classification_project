{
 "cells": [
  {
   "cell_type": "code",
   "execution_count": 1,
   "id": "e4b5d0cc-f1a0-45b8-be92-47cf464ebd54",
   "metadata": {},
   "outputs": [],
   "source": [
    "import pandas as pd\n",
    "from src.ticket_messages import TicketMessage"
   ]
  },
  {
   "cell_type": "code",
   "execution_count": 2,
   "id": "69209acf-ecd6-4f04-b8d5-c6501dd4f958",
   "metadata": {},
   "outputs": [],
   "source": [
    "df = pd.read_parquet(\"data/classification_dataset\")"
   ]
  },
  {
   "cell_type": "code",
   "execution_count": 3,
   "id": "a7519f8f-b1b8-42e0-8509-3bd630982bac",
   "metadata": {},
   "outputs": [
    {
     "data": {
      "text/html": [
       "<div>\n",
       "<style scoped>\n",
       "    .dataframe tbody tr th:only-of-type {\n",
       "        vertical-align: middle;\n",
       "    }\n",
       "\n",
       "    .dataframe tbody tr th {\n",
       "        vertical-align: top;\n",
       "    }\n",
       "\n",
       "    .dataframe thead th {\n",
       "        text-align: right;\n",
       "    }\n",
       "</style>\n",
       "<table border=\"1\" class=\"dataframe\">\n",
       "  <thead>\n",
       "    <tr style=\"text-align: right;\">\n",
       "      <th></th>\n",
       "      <th>account_id</th>\n",
       "      <th>ticket_id</th>\n",
       "      <th>raw_body</th>\n",
       "      <th>channel</th>\n",
       "      <th>unix_timestamp</th>\n",
       "      <th>contact_reason</th>\n",
       "      <th>processed_body</th>\n",
       "      <th>email_sentence_embeddings</th>\n",
       "    </tr>\n",
       "  </thead>\n",
       "  <tbody>\n",
       "    <tr>\n",
       "      <th>56167</th>\n",
       "      <td>47355</td>\n",
       "      <td>97704266</td>\n",
       "      <td>-7329393197999221857</td>\n",
       "      <td>email</td>\n",
       "      <td>1.683747e+09</td>\n",
       "      <td>\"Pre-sale::Place an order\"</td>\n",
       "      <td>7769862566240229096</td>\n",
       "      <td>{\"7076610397638084948\": [0.04829759523272514, ...</td>\n",
       "    </tr>\n",
       "    <tr>\n",
       "      <th>56168</th>\n",
       "      <td>47355</td>\n",
       "      <td>97104492</td>\n",
       "      <td>-712526401448959206</td>\n",
       "      <td>email</td>\n",
       "      <td>1.683821e+09</td>\n",
       "      <td>\"No Action Req::Others\"</td>\n",
       "      <td>8225526187121867386</td>\n",
       "      <td>{\"-4707052099692602634\": [0.04418250918388367,...</td>\n",
       "    </tr>\n",
       "    <tr>\n",
       "      <th>56169</th>\n",
       "      <td>47355</td>\n",
       "      <td>98114244</td>\n",
       "      <td>-6396575246795551664</td>\n",
       "      <td>email</td>\n",
       "      <td>1.683823e+09</td>\n",
       "      <td>\"No Action Req::Others\"</td>\n",
       "      <td>0</td>\n",
       "      <td>None</td>\n",
       "    </tr>\n",
       "    <tr>\n",
       "      <th>56170</th>\n",
       "      <td>47355</td>\n",
       "      <td>98375668</td>\n",
       "      <td>8956876459394868202</td>\n",
       "      <td>email</td>\n",
       "      <td>1.684164e+09</td>\n",
       "      <td>\"Tech Supp::Tech_Query\"</td>\n",
       "      <td>4884952985295307657</td>\n",
       "      <td>{\"-6790423425691970518\": [-0.10473562777042389...</td>\n",
       "    </tr>\n",
       "    <tr>\n",
       "      <th>56171</th>\n",
       "      <td>47355</td>\n",
       "      <td>98834917</td>\n",
       "      <td>3230166170796936168</td>\n",
       "      <td>email</td>\n",
       "      <td>1.684271e+09</td>\n",
       "      <td>\"Shipping::Tracking\"</td>\n",
       "      <td>1023372247625818182</td>\n",
       "      <td>{\"1824102601729972162\": [-0.02185063622891903,...</td>\n",
       "    </tr>\n",
       "  </tbody>\n",
       "</table>\n",
       "</div>"
      ],
      "text/plain": [
       "      account_id ticket_id             raw_body channel  unix_timestamp   \n",
       "56167      47355  97704266 -7329393197999221857   email    1.683747e+09  \\\n",
       "56168      47355  97104492  -712526401448959206   email    1.683821e+09   \n",
       "56169      47355  98114244 -6396575246795551664   email    1.683823e+09   \n",
       "56170      47355  98375668  8956876459394868202   email    1.684164e+09   \n",
       "56171      47355  98834917  3230166170796936168   email    1.684271e+09   \n",
       "\n",
       "                   contact_reason       processed_body   \n",
       "56167  \"Pre-sale::Place an order\"  7769862566240229096  \\\n",
       "56168     \"No Action Req::Others\"  8225526187121867386   \n",
       "56169     \"No Action Req::Others\"                    0   \n",
       "56170     \"Tech Supp::Tech_Query\"  4884952985295307657   \n",
       "56171        \"Shipping::Tracking\"  1023372247625818182   \n",
       "\n",
       "                               email_sentence_embeddings  \n",
       "56167  {\"7076610397638084948\": [0.04829759523272514, ...  \n",
       "56168  {\"-4707052099692602634\": [0.04418250918388367,...  \n",
       "56169                                               None  \n",
       "56170  {\"-6790423425691970518\": [-0.10473562777042389...  \n",
       "56171  {\"1824102601729972162\": [-0.02185063622891903,...  "
      ]
     },
     "execution_count": 3,
     "metadata": {},
     "output_type": "execute_result"
    }
   ],
   "source": [
    "df.tail()"
   ]
  },
  {
   "cell_type": "code",
   "execution_count": 4,
   "id": "762281a6-eb4b-4a32-8757-70b784b20c54",
   "metadata": {},
   "outputs": [],
   "source": [
    "ticket_message_list = TicketMessage.from_dataframe(dataframe=df)"
   ]
  },
  {
   "cell_type": "code",
   "execution_count": 5,
   "id": "c6f32b04-8b66-47c2-bdc0-dc674ab0af3c",
   "metadata": {},
   "outputs": [
    {
     "name": "stdout",
     "output_type": "stream",
     "text": [
      "Account id = 4453\n",
      "Ticket id = 375526423\n",
      "Contact Reason =  \"Post-purchase::Other::Other\"\n",
      "Number of sentences in email =  3\n"
     ]
    }
   ],
   "source": [
    "i = 13524\n",
    "\n",
    "print(f\"Account id = {ticket_message_list[i].account_id}\")\n",
    "print(f\"Ticket id = {ticket_message_list[i].ticket_id}\")\n",
    "print(f\"Contact Reason = \", ticket_message_list[i].contact_reason)\n",
    "if ticket_message_list[i].email_sentence_embeddings:\n",
    "    print(f\"Number of sentences in email = \", len(ticket_message_list[i].email_sentence_embeddings))\n",
    "else:\n",
    "    print(f\"Number of sentences in email = \", 0)"
   ]
  },
  {
   "cell_type": "code",
   "execution_count": null,
   "id": "4813705c-ccc6-4c9c-92b8-a21d5d3b156e",
   "metadata": {},
   "outputs": [],
   "source": []
  },
  {
   "cell_type": "code",
   "execution_count": null,
   "id": "91193cdb-1c6c-4b86-9b3d-b76d4a2be85d",
   "metadata": {},
   "outputs": [],
   "source": []
  }
 ],
 "metadata": {
  "kernelspec": {
   "display_name": "custom-field",
   "language": "python",
   "name": "myenv"
  },
  "language_info": {
   "codemirror_mode": {
    "name": "ipython",
    "version": 3
   },
   "file_extension": ".py",
   "mimetype": "text/x-python",
   "name": "python",
   "nbconvert_exporter": "python",
   "pygments_lexer": "ipython3",
   "version": "3.9.16"
  }
 },
 "nbformat": 4,
 "nbformat_minor": 5
}
